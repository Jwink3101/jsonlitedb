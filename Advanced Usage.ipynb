{
 "cells": [
  {
   "cell_type": "markdown",
   "id": "a800f96d-3df0-4167-8f71-fc908d4dfb64",
   "metadata": {},
   "source": [
    "# Advanced Usage\n",
    "\n",
    "Some more complex usages and tools"
   ]
  },
  {
   "cell_type": "code",
   "execution_count": 1,
   "id": "458158d2-f144-491a-a356-1d463ebcca25",
   "metadata": {
    "tags": []
   },
   "outputs": [],
   "source": [
    "from jsonlitedb import JSONLiteDB\n",
    "import sqlite3\n",
    "import json"
   ]
  },
  {
   "cell_type": "markdown",
   "id": "036ef4a2-aa69-46e3-8bbf-40de54e39739",
   "metadata": {},
   "source": [
    "## Nested Dictionaries\n",
    "\n",
    "One advantage of JSONLiteDB is that it can query *into* a nested dictionary. Consider the following: (obviosly, in real usages, there would be many more items)"
   ]
  },
  {
   "cell_type": "code",
   "execution_count": 2,
   "id": "929c0d2f-3c8a-4bc2-aa9c-4ef2b7f34baf",
   "metadata": {
    "tags": []
   },
   "outputs": [],
   "source": [
    "db = JSONLiteDB(\":memory:\")\n",
    "with db:  # Not needed but batches the insertion\n",
    "    db.insert(\n",
    "        {\n",
    "            \"first\": \"John\",\n",
    "            \"last\": \"Smith\",\n",
    "            \"phone\": {\"home\": \"215.555.6587\", \"work\": \"919.555.4795\"},\n",
    "            \"kids\": [\n",
    "                {\"first\": \"John Jr.\", \"last\": \"Smith\"},\n",
    "                {\"first\": \"Jane\", \"last\": \"Smith\"},\n",
    "            ],\n",
    "        }\n",
    "    )\n",
    "    db.insert(\n",
    "        {\n",
    "            \"first\": \"Clark\",\n",
    "            \"last\": \"Drake\",\n",
    "            \"phone\": {\"home\": \"412.555.4960\", \"work\": \"410.555.9903\"},\n",
    "            \"kids\": [],\n",
    "        }\n",
    "    )\n",
    "    db.insert(\n",
    "        {\n",
    "            \"first\": \"Peggy\",\n",
    "            \"last\": \"Line\",\n",
    "            \"phone\": {\"home\": \"505.555.3101\"},\n",
    "            \"kids\": [\n",
    "                {\"first\": \"Jane\", \"last\": \"Line\"},\n",
    "                {\"first\": \"Molly\", \"last\": \"Line\"},\n",
    "            ],\n",
    "        }\n",
    "    )\n",
    "    db.insert(\n",
    "        {\n",
    "            \"first\": \"Luke\",\n",
    "            \"last\": \"Truss\",\n",
    "            \"phone\": {\"home\": \"610.555.2647\"},\n",
    "            \"kids\": [{\"first\": \"Janet\", \"last\": \"Truss\"}],\n",
    "        }\n",
    "    )"
   ]
  },
  {
   "cell_type": "markdown",
   "id": "48789b64-6875-4285-93fc-39ddd5c2f055",
   "metadata": {},
   "source": [
    "All of these have **identical results**"
   ]
  },
  {
   "cell_type": "code",
   "execution_count": 3,
   "id": "16b9684f-8c95-44dd-95ab-cb8792dee7e2",
   "metadata": {
    "tags": []
   },
   "outputs": [
    {
     "data": {
      "text/plain": [
       "[{'first': 'Peggy',\n",
       "  'last': 'Line',\n",
       "  'phone': {'home': '505.555.3101'},\n",
       "  'kids': [{'first': 'Jane', 'last': 'Line'},\n",
       "   {'first': 'Molly', 'last': 'Line'}]}]"
      ]
     },
     "execution_count": 3,
     "metadata": {},
     "output_type": "execute_result"
    }
   ],
   "source": [
    "# Using a tuple\n",
    "list(db.query({(\"phone\", \"home\"): \"505.555.3101\"}))\n",
    "\n",
    "# Quoted JSON path. See below for discussion and comments on quoting\n",
    "list(db.query({'$.\"phone\".\"home\"': \"505.555.3101\"}))\n",
    "\n",
    "# Query Objects\n",
    "list(db.query(db.Q.phone.home == \"505.555.3101\"))"
   ]
  },
  {
   "cell_type": "markdown",
   "id": "49d7b527-cab8-432a-9f13-2c7fd73ece4d",
   "metadata": {},
   "source": [
    "This is also **identical** but since this is `\"$.phone.home\"` and the others result in `'$.\"phone\".\"home\"'` an index built with one will not be used with the other."
   ]
  },
  {
   "cell_type": "code",
   "execution_count": 4,
   "id": "b20c2a35-4e15-4f86-a6cd-8173148f5fe3",
   "metadata": {
    "tags": []
   },
   "outputs": [
    {
     "data": {
      "text/plain": [
       "[{'first': 'Peggy',\n",
       "  'last': 'Line',\n",
       "  'phone': {'home': '505.555.3101'},\n",
       "  'kids': [{'first': 'Jane', 'last': 'Line'},\n",
       "   {'first': 'Molly', 'last': 'Line'}]}]"
      ]
     },
     "execution_count": 4,
     "metadata": {},
     "output_type": "execute_result"
    }
   ],
   "source": [
    "# Using the SQLite JSON path style.\n",
    "list(db.query({\"$.phone.home\": \"505.555.3101\"}))"
   ]
  },
  {
   "cell_type": "markdown",
   "id": "365f9596-afc6-4c37-b553-fd133f8bffc1",
   "metadata": {},
   "source": [
    "Of course, using a query object allows for even more flexibility: Use a LIKE"
   ]
  },
  {
   "cell_type": "code",
   "execution_count": 5,
   "id": "9ee0d4b6-4ef4-4ee7-a115-da30a990dab0",
   "metadata": {
    "tags": []
   },
   "outputs": [
    {
     "data": {
      "text/plain": [
       "[{'first': 'Peggy',\n",
       "  'last': 'Line',\n",
       "  'phone': {'home': '505.555.3101'},\n",
       "  'kids': [{'first': 'Jane', 'last': 'Line'},\n",
       "   {'first': 'Molly', 'last': 'Line'}]}]"
      ]
     },
     "execution_count": 5,
     "metadata": {},
     "output_type": "execute_result"
    }
   ],
   "source": [
    "list(db.query(db.Q.phone.home % \"505%\"))"
   ]
  },
  {
   "cell_type": "markdown",
   "id": "178b4d9e-bdb9-40e5-a2fd-fa39bc002bdb",
   "metadata": {},
   "source": [
    "### rowid\n",
    "\n",
    "Every returned item is basically a dict with the addition of the `rowid` property"
   ]
  },
  {
   "cell_type": "code",
   "execution_count": 6,
   "id": "44f35f13-c000-4043-b81c-596ec79c3afa",
   "metadata": {},
   "outputs": [
    {
     "data": {
      "text/plain": [
       "jsonlitedb.DBDict"
      ]
     },
     "execution_count": 6,
     "metadata": {},
     "output_type": "execute_result"
    }
   ],
   "source": [
    "type(db.query_one(db.Q.phone.home % \"505%\"))"
   ]
  },
  {
   "cell_type": "code",
   "execution_count": 7,
   "id": "56ff8362-462a-4141-a984-6bb1a0a0fe23",
   "metadata": {},
   "outputs": [
    {
     "data": {
      "text/plain": [
       "3"
      ]
     },
     "execution_count": 7,
     "metadata": {},
     "output_type": "execute_result"
    }
   ],
   "source": [
    "db.query_one(db.Q.phone.home % \"505%\").rowid"
   ]
  },
  {
   "cell_type": "markdown",
   "id": "136dc771-deb5-4a0b-a238-d54851a7aec8",
   "metadata": {},
   "source": [
    "And you can get items by rowid"
   ]
  },
  {
   "cell_type": "code",
   "execution_count": 8,
   "id": "3d0548ce-b611-43fe-9831-0201ddaf9ebc",
   "metadata": {},
   "outputs": [
    {
     "data": {
      "text/plain": [
       "{'first': 'Peggy',\n",
       " 'last': 'Line',\n",
       " 'phone': {'home': '505.555.3101'},\n",
       " 'kids': [{'first': 'Jane', 'last': 'Line'},\n",
       "  {'first': 'Molly', 'last': 'Line'}]}"
      ]
     },
     "execution_count": 8,
     "metadata": {},
     "output_type": "execute_result"
    }
   ],
   "source": [
    "db[3]"
   ]
  },
  {
   "cell_type": "markdown",
   "id": "185f20c3-c42f-4ce5-b973-74b2397eaa4e",
   "metadata": {},
   "source": [
    "### Lists of Items"
   ]
  },
  {
   "cell_type": "markdown",
   "id": "3ba9d119-a19c-43e4-bb19-b202d5cfe6e1",
   "metadata": {},
   "source": [
    "You can also query from a list element given the zero-based index.\n",
    "\n",
    "Find any whos *first* kid is named 'Jane'. Both of the following are the same:"
   ]
  },
  {
   "cell_type": "code",
   "execution_count": 9,
   "id": "7ec8c709-1843-4fb2-b8bd-f93b2a19a834",
   "metadata": {
    "tags": []
   },
   "outputs": [
    {
     "data": {
      "text/plain": [
       "[{'first': 'Peggy',\n",
       "  'last': 'Line',\n",
       "  'phone': {'home': '505.555.3101'},\n",
       "  'kids': [{'first': 'Jane', 'last': 'Line'},\n",
       "   {'first': 'Molly', 'last': 'Line'}]}]"
      ]
     },
     "execution_count": 9,
     "metadata": {},
     "output_type": "execute_result"
    }
   ],
   "source": [
    "list(db.query({(\"kids\", 0, \"first\"): \"Jane\"}))"
   ]
  },
  {
   "cell_type": "code",
   "execution_count": 10,
   "id": "6fb6a6b7-c7ab-4838-a17c-d3e246f01ef8",
   "metadata": {
    "tags": []
   },
   "outputs": [
    {
     "data": {
      "text/plain": [
       "[{'first': 'Peggy',\n",
       "  'last': 'Line',\n",
       "  'phone': {'home': '505.555.3101'},\n",
       "  'kids': [{'first': 'Jane', 'last': 'Line'},\n",
       "   {'first': 'Molly', 'last': 'Line'}]}]"
      ]
     },
     "execution_count": 10,
     "metadata": {},
     "output_type": "execute_result"
    }
   ],
   "source": [
    "list(db.query(db.Q.kids[0].first == \"Jane\"))"
   ]
  },
  {
   "cell_type": "markdown",
   "id": "13ab641c-6526-4f28-97a9-e76b2efcb37c",
   "metadata": {},
   "source": [
    "To query if *any* kid is named 'Jane', it is a bit harder. Actually, SQLite's [JSON_EACH](https://www.sqlite.org/json1.html#jeach) will do it but at the moment, this is not directly supported in JSONLiteDB. But you can make use JSONLiteDB to reduce the options then finish in Python. Note that this can still be a major speedup over pure Python."
   ]
  },
  {
   "cell_type": "code",
   "execution_count": 11,
   "id": "c4a77b15-d35b-4ab5-95e0-33ea5c36b491",
   "metadata": {
    "tags": []
   },
   "outputs": [
    {
     "data": {
      "text/plain": [
       "[{'first': 'John',\n",
       "  'last': 'Smith',\n",
       "  'phone': {'home': '215.555.6587', 'work': '919.555.4795'},\n",
       "  'kids': [{'first': 'John Jr.', 'last': 'Smith'},\n",
       "   {'first': 'Jane', 'last': 'Smith'}]},\n",
       " {'first': 'Peggy',\n",
       "  'last': 'Line',\n",
       "  'phone': {'home': '505.555.3101'},\n",
       "  'kids': [{'first': 'Jane', 'last': 'Line'},\n",
       "   {'first': 'Molly', 'last': 'Line'}]}]"
      ]
     },
     "execution_count": 11,
     "metadata": {},
     "output_type": "execute_result"
    }
   ],
   "source": [
    "items = []\n",
    "qres = db.query(db.Q.kids % \"%Jane%\")\n",
    "# Note, you don't want to end here since it will pick up 'Janet'\n",
    "for item in qres:\n",
    "    if any(kid[\"first\"] == \"Jane\" for kid in item.get(\"kids\", [])):\n",
    "        items.append(item)\n",
    "items"
   ]
  },
  {
   "cell_type": "markdown",
   "id": "d806af97-a08c-4d10-b346-99ab95e7e7f8",
   "metadata": {},
   "source": [
    "*Really* advanced usage is use SQL directly. This, of course, doesn't leverage JSONLiteDB at all..."
   ]
  },
  {
   "cell_type": "code",
   "execution_count": 12,
   "id": "58eaf7c1-068e-4616-b33e-f58206d8c2cd",
   "metadata": {
    "tags": []
   },
   "outputs": [
    {
     "data": {
      "text/plain": [
       "[{'first': 'John',\n",
       "  'last': 'Smith',\n",
       "  'phone': {'home': '215.555.6587', 'work': '919.555.4795'},\n",
       "  'kids': [{'first': 'John Jr.', 'last': 'Smith'},\n",
       "   {'first': 'Jane', 'last': 'Smith'}]},\n",
       " {'first': 'Peggy',\n",
       "  'last': 'Line',\n",
       "  'phone': {'home': '505.555.3101'},\n",
       "  'kids': [{'first': 'Jane', 'last': 'Line'},\n",
       "   {'first': 'Molly', 'last': 'Line'}]}]"
      ]
     },
     "execution_count": 12,
     "metadata": {},
     "output_type": "execute_result"
    }
   ],
   "source": [
    "qres = db.db.execute(\n",
    "    \"\"\"\n",
    "    -- DISTINCT because JSON_EACH expands rows. Not needed in this case\n",
    "    -- and can make repeated rows only show once. But works here.\n",
    "    SELECT DISTINCT \n",
    "        items.data \n",
    "    FROM \n",
    "        items, \n",
    "        JSON_EACH(items.data,'$.\"kids\"') AS kids\n",
    "    WHERE\n",
    "        JSON_EXTRACT(kids.value,'$.\"first\"') = 'Jane'\n",
    "    \"\"\"\n",
    ")\n",
    "items = [json.loads(row[\"data\"]) for row in qres]\n",
    "items"
   ]
  },
  {
   "cell_type": "markdown",
   "id": "bde8d5bf-9310-4c3b-a121-e97a9aec97a2",
   "metadata": {},
   "source": [
    "### Keys/Paths\n",
    "\n",
    "We can also look into the items more. Recall that in these examples, there are lots of common keys but there doesn't have to be!\n",
    "\n",
    "For this demo, let's first add some new items"
   ]
  },
  {
   "cell_type": "code",
   "execution_count": 13,
   "id": "dd3ba7c0-2d0d-4db9-b2c7-6bcec434478f",
   "metadata": {
    "tags": []
   },
   "outputs": [],
   "source": [
    "db.insert({\"new\": \"item\", \"and_with\": {\"multiple\": \"sub\", \"elements\": None}})"
   ]
  },
  {
   "cell_type": "markdown",
   "id": "483c816d-1363-4718-8fc5-0308e5a3524c",
   "metadata": {},
   "source": [
    "Can see how often certains keys show"
   ]
  },
  {
   "cell_type": "code",
   "execution_count": 14,
   "id": "e5d390ea-5dff-4459-b1f1-adacff767d80",
   "metadata": {
    "tags": []
   },
   "outputs": [
    {
     "data": {
      "text/plain": [
       "{'first': 4, 'kids': 4, 'last': 4, 'phone': 4, 'and_with': 1, 'new': 1}"
      ]
     },
     "execution_count": 14,
     "metadata": {},
     "output_type": "execute_result"
    }
   ],
   "source": [
    "db.path_counts()"
   ]
  },
  {
   "cell_type": "markdown",
   "id": "cf2c949c-c3d7-470e-87b2-1efe32e75ffc",
   "metadata": {},
   "source": [
    "Same for subkeys. These follow the standard options of JSON path string, regular single-item key, tuple, or query objects"
   ]
  },
  {
   "cell_type": "markdown",
   "id": "5d4c96ae-8e0b-482c-9e46-c5a9f8895d6b",
   "metadata": {},
   "source": [
    "Notice this is empty because there are no sub-elements to `'new'`"
   ]
  },
  {
   "cell_type": "code",
   "execution_count": 15,
   "id": "98267f82-fcd5-4237-b786-ab3287e31e9a",
   "metadata": {
    "tags": []
   },
   "outputs": [
    {
     "data": {
      "text/plain": [
       "{}"
      ]
     },
     "execution_count": 15,
     "metadata": {},
     "output_type": "execute_result"
    }
   ],
   "source": [
    "db.path_counts(\"new\")"
   ]
  },
  {
   "cell_type": "markdown",
   "id": "8410310a-6143-498c-a131-ea0b22769696",
   "metadata": {},
   "source": [
    "But there are sub items for `and_with`"
   ]
  },
  {
   "cell_type": "code",
   "execution_count": 16,
   "id": "f3370ce3-fd24-48e1-8980-c3f1345538a1",
   "metadata": {
    "tags": []
   },
   "outputs": [
    {
     "data": {
      "text/plain": [
       "{'elements': 1, 'multiple': 1}"
      ]
     },
     "execution_count": 16,
     "metadata": {},
     "output_type": "execute_result"
    }
   ],
   "source": [
    "db.path_counts(db.Q.and_with)"
   ]
  },
  {
   "cell_type": "markdown",
   "id": "7d869eeb-ad24-449a-a507-863182b035ea",
   "metadata": {},
   "source": [
    "#### Queries if paths exists\n",
    "\n",
    "JSONLiteDB, and the underlying tools, treat items as if they contain every path with a default value of `None`. Normally this is fine since you can do something like:"
   ]
  },
  {
   "cell_type": "code",
   "execution_count": 17,
   "id": "4d7053e6-42b4-4c46-b388-d37417048d22",
   "metadata": {
    "tags": []
   },
   "outputs": [
    {
     "data": {
      "text/plain": [
       "[{'new': 'item', 'and_with': {'multiple': 'sub', 'elements': None}}]"
      ]
     },
     "execution_count": 17,
     "metadata": {},
     "output_type": "execute_result"
    }
   ],
   "source": [
    "list(db.query(db.Q.new != None))"
   ]
  },
  {
   "cell_type": "markdown",
   "id": "6e28a354-a7dc-459a-b433-cc03d18d6fb3",
   "metadata": {},
   "source": [
    "But for the path `db.Q.and_with.elements`, the value *is* None"
   ]
  },
  {
   "cell_type": "code",
   "execution_count": 18,
   "id": "5d80d735-2e44-4a8c-b766-a696316ba6f4",
   "metadata": {
    "tags": []
   },
   "outputs": [
    {
     "data": {
      "text/plain": [
       "[]"
      ]
     },
     "execution_count": 18,
     "metadata": {},
     "output_type": "execute_result"
    }
   ],
   "source": [
    "list(db.query(db.Q.and_with.elements != None))"
   ]
  },
  {
   "cell_type": "markdown",
   "id": "de7445e7-54a8-4f02-97b3-c17a56285fb3",
   "metadata": {},
   "source": [
    "Instead use `query_by_path_exists()`. Note that `query_by_path_exists()` does not allow for multiple queries or combined conditions. Those can either be done manually with the results or in Python (or in SQL if you're really adventurous)"
   ]
  },
  {
   "cell_type": "code",
   "execution_count": 19,
   "id": "91e4764c-6f8f-458a-8285-6635fd88764a",
   "metadata": {
    "tags": []
   },
   "outputs": [
    {
     "data": {
      "text/plain": [
       "[{'new': 'item', 'and_with': {'multiple': 'sub', 'elements': None}}]"
      ]
     },
     "execution_count": 19,
     "metadata": {},
     "output_type": "execute_result"
    }
   ],
   "source": [
    "list(db.query_by_path_exists(db.Q.and_with.elements))"
   ]
  },
  {
   "cell_type": "markdown",
   "id": "f806d3db-3ae6-43c1-8cbe-f85755ee3d4b",
   "metadata": {},
   "source": [
    "## Indexes, Unique Constraints, and Insertions"
   ]
  },
  {
   "cell_type": "markdown",
   "id": "bb330e83-d267-40dc-b6f1-a3c92bb02052",
   "metadata": {},
   "source": [
    "As mentioned in basic usage, an index can *dramatically* speed up queries. They can also be used to enfore uniqueness.\n",
    "\n",
    "Consider a simple index:"
   ]
  },
  {
   "cell_type": "code",
   "execution_count": 20,
   "id": "8c1d243f-e365-47ab-ba33-9ddceceaecc7",
   "metadata": {
    "tags": []
   },
   "outputs": [
    {
     "data": {
      "text/plain": [
       "{'ix_items_9852c203': ['$.\"color\"']}"
      ]
     },
     "execution_count": 20,
     "metadata": {},
     "output_type": "execute_result"
    }
   ],
   "source": [
    "db = JSONLiteDB(\":memory:\")\n",
    "db.insert({\"make\": \"Ford\", \"model\": \"Mustang\", \"color\": \"red\", \"orders\": 15})\n",
    "db.insert({\"make\": \"Honda\", \"model\": \"Accord\", \"color\": \"blue\", \"orders\": 35})\n",
    "db.insert({\"make\": \"Kia\", \"model\": \"Telluride\", \"color\": \"red\", \"orders\": 8})\n",
    "\n",
    "db.create_index(\"color\")\n",
    "db.indexes"
   ]
  },
  {
   "cell_type": "markdown",
   "id": "eb3bc6be-4321-4d01-8585-a6acef7751e0",
   "metadata": {},
   "source": [
    "Now we can query by color quickly. What about by make? Use a \"unique\" index"
   ]
  },
  {
   "cell_type": "code",
   "execution_count": 21,
   "id": "ffc623b2-af2f-4bf4-8ac2-e9188ab56d51",
   "metadata": {
    "tags": []
   },
   "outputs": [],
   "source": [
    "db.drop_index_by_name(\"ix_items_9852c203\")"
   ]
  },
  {
   "cell_type": "code",
   "execution_count": 22,
   "id": "0930b8be-2fa8-4f58-91cd-ff910b721bbd",
   "metadata": {
    "tags": []
   },
   "outputs": [
    {
     "data": {
      "text/plain": [
       "{'ix_items_e97e5129_UNIQUE': ['$.\"make\"']}"
      ]
     },
     "execution_count": 22,
     "metadata": {},
     "output_type": "execute_result"
    }
   ],
   "source": [
    "db.create_index(\"make\", unique=True)\n",
    "db.indexes"
   ]
  },
  {
   "cell_type": "code",
   "execution_count": 23,
   "id": "ea65aeb2-96e2-49f0-a8dd-7789dac5b03f",
   "metadata": {
    "tags": []
   },
   "outputs": [
    {
     "name": "stdout",
     "output_type": "stream",
     "text": [
      "Raised IntegrityError: UNIQUE constraint failed: index 'ix_items_e97e5129_UNIQUE'\n"
     ]
    }
   ],
   "source": [
    "try:\n",
    "    db.insert({\"make\": \"Ford\", \"model\": \"F-150\", \"color\": \"green\"})\n",
    "except sqlite3.IntegrityError as E:\n",
    "    print(f\"Raised {type(E).__name__}: {E}\")"
   ]
  },
  {
   "cell_type": "markdown",
   "id": "022bf931-55ec-4377-ab74-5b4ac9819317",
   "metadata": {},
   "source": [
    "You can ignore it:"
   ]
  },
  {
   "cell_type": "code",
   "execution_count": 24,
   "id": "4f611861-99e3-44d0-8d58-3584e1fbca28",
   "metadata": {
    "tags": []
   },
   "outputs": [
    {
     "data": {
      "text/plain": [
       "[{'make': 'Ford', 'model': 'Mustang', 'color': 'red', 'orders': 15}]"
      ]
     },
     "execution_count": 24,
     "metadata": {},
     "output_type": "execute_result"
    }
   ],
   "source": [
    "db.insert({\"make\": \"Ford\", \"model\": \"F-150\", \"color\": \"green\"}, duplicates=\"ignore\")\n",
    "list(db.query(make=\"Ford\"))  # Unchanged"
   ]
  },
  {
   "cell_type": "markdown",
   "id": "3eba97f4-cf26-4ce5-b5a6-714787f06d66",
   "metadata": {},
   "source": [
    "or replace it"
   ]
  },
  {
   "cell_type": "code",
   "execution_count": 25,
   "id": "056b43d3-882d-4d68-a0c3-1e4a3d073b03",
   "metadata": {
    "tags": []
   },
   "outputs": [
    {
     "data": {
      "text/plain": [
       "[{'make': 'Ford', 'model': 'F-150', 'color': 'green'}]"
      ]
     },
     "execution_count": 25,
     "metadata": {},
     "output_type": "execute_result"
    }
   ],
   "source": [
    "db.insert({\"make\": \"Ford\", \"model\": \"F-150\", \"color\": \"green\"}, duplicates=\"replace\")\n",
    "list(db.query(make=\"Ford\"))  # Now it's the F-150"
   ]
  },
  {
   "cell_type": "markdown",
   "id": "7d8f95f9-13ef-4baf-bd2c-cfbf45d305ae",
   "metadata": {},
   "source": [
    "You can, of coure, delete the index"
   ]
  },
  {
   "cell_type": "code",
   "execution_count": 26,
   "id": "1c946cb2-a76c-4465-bb7b-4f8d6a99dcd7",
   "metadata": {
    "tags": []
   },
   "outputs": [],
   "source": [
    "db.drop_index(\"make\")  # or db.drop_index_by_name('ix_items_e97e5129')"
   ]
  },
  {
   "cell_type": "markdown",
   "id": "bcf51da3-a5a9-4fbb-9c8d-c0a5f88f11e2",
   "metadata": {},
   "source": [
    "Note that an index can be on multiple items and/or subqueries. Basically, anything that can be queried, can be made into an index. Do note SQLite is *extremely* particular about the index. An index on `'make'` maps to an index on `'$.\"make\"'` which is functionally the same, but won't be used for a query on `'$.make'`. See below."
   ]
  },
  {
   "cell_type": "code",
   "execution_count": 27,
   "id": "5c7d0812-ef97-4739-803c-f3e5e89a017a",
   "metadata": {
    "tags": []
   },
   "outputs": [
    {
     "data": {
      "text/plain": [
       "{'ix_items_e97e5129_UNIQUE': ['$.\"make\"'],\n",
       " 'ix_items_e97e5129': ['$.\"make\"'],\n",
       " 'ix_items_1d9d7315': ['$.make']}"
      ]
     },
     "execution_count": 27,
     "metadata": {},
     "output_type": "execute_result"
    }
   ],
   "source": [
    "db.create_index(\"make\")  # Same as db.create_index(db.Q.make)\n",
    "db.create_index(\"$.make\")  # Functionally the same but different index\n",
    "db.indexes"
   ]
  },
  {
   "cell_type": "markdown",
   "id": "7122b6c7-4e31-404f-9117-974afaf773ab",
   "metadata": {},
   "source": [
    "### Updating Rows\n",
    "\n",
    "First, note that while the database returns mutable objects (a dict with the `rowid` attribute), it will not save those unless updated!\n",
    "\n",
    "If those objects are updated, they can be passed back. The `rowid` must either be specified (precendance) or infered from the attribute"
   ]
  },
  {
   "cell_type": "code",
   "execution_count": 28,
   "id": "f51d9a80-0b54-483e-be00-f1cc7ada246a",
   "metadata": {},
   "outputs": [
    {
     "data": {
      "text/plain": [
       "{'make': 'Ford', 'model': 'F-150', 'color': 'green', 'orders': 900}"
      ]
     },
     "execution_count": 28,
     "metadata": {},
     "output_type": "execute_result"
    }
   ],
   "source": [
    "row = db.query_one(make=\"Ford\")\n",
    "row[\"orders\"] = 900\n",
    "db.update(row)\n",
    "\n",
    "db.query_one(make=\"Ford\")  # Will have 900 orders"
   ]
  },
  {
   "cell_type": "markdown",
   "id": "148f0563-32c7-415c-97c5-5a144887cd7a",
   "metadata": {},
   "source": [
    "## Aggregate Functions\n",
    "\n",
    "Data can also be aggregated with AVG COUNT MAX MIN SUM TOTAL either directly or with a method of that name. See https://www.sqlite.org/lang_aggfunc.html for description.\n",
    "\n",
    "Using the same databse"
   ]
  },
  {
   "cell_type": "code",
   "execution_count": 29,
   "id": "92ce7ccb-b267-4741-ba75-47ca7066d862",
   "metadata": {},
   "outputs": [
    {
     "data": {
      "text/plain": [
       "314.3333333333333"
      ]
     },
     "execution_count": 29,
     "metadata": {},
     "output_type": "execute_result"
    }
   ],
   "source": [
    "db.AVG(\"orders\")"
   ]
  },
  {
   "cell_type": "code",
   "execution_count": 30,
   "id": "53570d05-e78e-4744-9251-1ac16e7fe08d",
   "metadata": {},
   "outputs": [
    {
     "data": {
      "text/plain": [
       "8"
      ]
     },
     "execution_count": 30,
     "metadata": {},
     "output_type": "execute_result"
    }
   ],
   "source": [
    "db.MIN(\"orders\")"
   ]
  },
  {
   "cell_type": "code",
   "execution_count": 31,
   "id": "d7bbb180-92a9-4809-86e2-8c99b7f65042",
   "metadata": {},
   "outputs": [
    {
     "data": {
      "text/plain": [
       "900"
      ]
     },
     "execution_count": 31,
     "metadata": {},
     "output_type": "execute_result"
    }
   ],
   "source": [
    "db.MAX(\"orders\")"
   ]
  },
  {
   "cell_type": "code",
   "execution_count": 32,
   "id": "661cf71d-e70c-480b-b121-6f61937d950f",
   "metadata": {},
   "outputs": [
    {
     "data": {
      "text/plain": [
       "943"
      ]
     },
     "execution_count": 32,
     "metadata": {},
     "output_type": "execute_result"
    }
   ],
   "source": [
    "db.aggregate(\"orders\", \"SUM\")  # == db.SUM('orders')"
   ]
  },
  {
   "cell_type": "markdown",
   "id": "578b22be-a225-4f8d-8f46-a32f8d6d56aa",
   "metadata": {},
   "source": [
    "## Deletions"
   ]
  },
  {
   "cell_type": "code",
   "execution_count": 33,
   "id": "bd0260e4-f4f2-4af6-a37d-427cd6d301c2",
   "metadata": {},
   "outputs": [],
   "source": [
    "db.delete({\"make\": \"Ford\"})"
   ]
  },
  {
   "cell_type": "markdown",
   "id": "4410b071-7b97-48ff-ab73-310dee2b24f3",
   "metadata": {},
   "source": [
    "Can also do with a context manager to handle multiple in the same transaction"
   ]
  },
  {
   "cell_type": "code",
   "execution_count": 34,
   "id": "8a9e3568-2fbc-4656-b5ae-57c78b24c605",
   "metadata": {},
   "outputs": [],
   "source": [
    "with db:\n",
    "    db.delete({\"make\": \"Honda\"})\n",
    "    db.delete({\"make\": \"Nissan\"})"
   ]
  },
  {
   "cell_type": "markdown",
   "id": "24eac2ff-ece8-4810-af2d-3227eac68945",
   "metadata": {},
   "source": [
    "And can also delete one or more by rowid if known."
   ]
  },
  {
   "cell_type": "code",
   "execution_count": 35,
   "id": "355368b9-fcd3-4095-8723-a110bc4cedb5",
   "metadata": {},
   "outputs": [
    {
     "name": "stdout",
     "output_type": "stream",
     "text": [
      "rowid = 3\n"
     ]
    }
   ],
   "source": [
    "rowid = db.query(db.Q.make == \"Kia\").one().rowid\n",
    "print(f\"{rowid = }\")\n",
    "db.delete_by_rowid(rowid)"
   ]
  },
  {
   "cell_type": "markdown",
   "id": "022142e6-1ace-4785-8f16-737587471e56",
   "metadata": {},
   "source": [
    "## Recipes\n",
    "\n",
    "You can build other useful objects out of JSONLiteDB. Either with correct methods to match a Python object or just use it however. Note that there may be ready-made tools that do something similar and that is fine. These just let you use the simple nature of JSONLiteDB.\n",
    "\n",
    "These examples all use `\":memory:\"` but the idea is that you can then persist them to a file\n"
   ]
  },
  {
   "cell_type": "markdown",
   "id": "daaf3f77-48d9-4f4f-b9ee-19aa519228ca",
   "metadata": {},
   "source": [
    "### Key-Value Store\n",
    "\n",
    "Simple as a `{'key':'mykey','value':'myvalue'}` items with a unique index"
   ]
  },
  {
   "cell_type": "code",
   "execution_count": 36,
   "id": "f76e9f58-6247-42f4-9dda-4369949e50cd",
   "metadata": {},
   "outputs": [],
   "source": [
    "kv = JSONLiteDB(\":memory:\")\n",
    "kv.create_index(\"key\", unique=True)\n",
    "\n",
    "kv.insert({\"key\": \"mykey\", \"value\": \"myvalue\"})\n",
    "# ..."
   ]
  },
  {
   "cell_type": "markdown",
   "id": "2f05555a-3dfd-44c5-b6b5-f9fd4210770a",
   "metadata": {},
   "source": [
    "### List\n",
    "\n",
    "Just make object with `None` value"
   ]
  },
  {
   "cell_type": "code",
   "execution_count": 37,
   "id": "c238f555-ebd7-4b9e-92b2-d6e3293d16b2",
   "metadata": {},
   "outputs": [],
   "source": [
    "mylist = JSONLiteDB(\":memory:\")\n",
    "mylist.insert(\"item1\", \"item2\", \"item1\")\n",
    "\n",
    "# mylist.create_index(tuple()) # OPTIONAL"
   ]
  },
  {
   "cell_type": "code",
   "execution_count": 38,
   "id": "f517c1b2-a45c-485a-a296-50e0e8c97c51",
   "metadata": {},
   "outputs": [
    {
     "data": {
      "text/plain": [
       "True"
      ]
     },
     "execution_count": 38,
     "metadata": {},
     "output_type": "execute_result"
    }
   ],
   "source": [
    "\"item1\" in mylist"
   ]
  },
  {
   "cell_type": "code",
   "execution_count": 39,
   "id": "b538d311-254c-4d50-972f-4328d0bada16",
   "metadata": {},
   "outputs": [
    {
     "data": {
      "text/plain": [
       "False"
      ]
     },
     "execution_count": 39,
     "metadata": {},
     "output_type": "execute_result"
    }
   ],
   "source": [
    "\"item4\" in mylist"
   ]
  },
  {
   "cell_type": "markdown",
   "id": "655f461b-e6d0-4848-b23f-e25bfd9b2100",
   "metadata": {},
   "source": [
    "### Set\n",
    "\n",
    "Just like a list but create an empty unique index"
   ]
  },
  {
   "cell_type": "code",
   "execution_count": 40,
   "id": "9ba985e0-7baa-4c54-9e7b-54c355c317f4",
   "metadata": {},
   "outputs": [],
   "source": [
    "myset = JSONLiteDB(\":memory:\")\n",
    "myset.insert(\"item1\", \"item2\")\n",
    "\n",
    "myset.create_index(tuple(), unique=True)  # Required"
   ]
  },
  {
   "cell_type": "code",
   "execution_count": 41,
   "id": "869741d0-dbdd-4c3d-b588-0aa8526d2b94",
   "metadata": {},
   "outputs": [
    {
     "data": {
      "text/plain": [
       "True"
      ]
     },
     "execution_count": 41,
     "metadata": {},
     "output_type": "execute_result"
    }
   ],
   "source": [
    "\"item1\" in myset"
   ]
  },
  {
   "cell_type": "code",
   "execution_count": 42,
   "id": "8d2cead2-1b81-42aa-b848-0c3f5489fce0",
   "metadata": {},
   "outputs": [
    {
     "data": {
      "text/plain": [
       "False"
      ]
     },
     "execution_count": 42,
     "metadata": {},
     "output_type": "execute_result"
    }
   ],
   "source": [
    "\"item3\" in myset"
   ]
  },
  {
   "cell_type": "code",
   "execution_count": 43,
   "id": "e0b3e52d-d96a-47e5-a3f6-b9df8661e4f0",
   "metadata": {},
   "outputs": [],
   "source": [
    "# myset.add('item1')\n",
    "# IntegrityError: UNIQUE constraint failed: index 'ix_items_c3e97dd6_UNIQUE'"
   ]
  },
  {
   "cell_type": "markdown",
   "id": "7b98094c-3008-4d05-9e3e-552205397b05",
   "metadata": {},
   "source": [
    "## Side Note: Query Objects\n",
    "\n",
    "Just to note that the following are all the same for a given `db`:"
   ]
  },
  {
   "cell_type": "code",
   "execution_count": 44,
   "id": "943624c6-8eee-4b09-8ac9-f88c08bdb380",
   "metadata": {
    "tags": []
   },
   "outputs": [
    {
     "name": "stdout",
     "output_type": "stream",
     "text": [
      "db.Q.key == \"val\" = Query(( JSON_EXTRACT(data, '$.\"key\"') = 'val' ))\n",
      "db.Q.key.subkey[3] @ \"val\" = Query(( JSON_EXTRACT(data, '$.\"key\".\"subkey\"[3]') REGEXP 'val' ))\n"
     ]
    }
   ],
   "source": [
    "db.Q.key == \"val\"  # No call\n",
    "db.Q().key == \"val\"  # Called. Optional\n",
    "\n",
    "from jsonlitedb import Query, Q\n",
    "\n",
    "Query().key == \"val\"  # MUST be called\n",
    "Q().key == \"val\"  # MUST be called\n",
    "\n",
    "# See them:\n",
    "print(f'{db.Q.key == \"val\" = }')\n",
    "print(f'{db.Q.key.subkey[3] @ \"val\" = }')"
   ]
  },
  {
   "cell_type": "code",
   "execution_count": null,
   "id": "2223951f-359c-4276-bb06-d3118a56f436",
   "metadata": {},
   "outputs": [],
   "source": []
  }
 ],
 "metadata": {
  "kernelspec": {
   "display_name": "Python 3 (ipykernel)",
   "language": "python",
   "name": "python3"
  },
  "language_info": {
   "codemirror_mode": {
    "name": "ipython",
    "version": 3
   },
   "file_extension": ".py",
   "mimetype": "text/x-python",
   "name": "python",
   "nbconvert_exporter": "python",
   "pygments_lexer": "ipython3",
   "version": "3.11.5"
  }
 },
 "nbformat": 4,
 "nbformat_minor": 5
}
