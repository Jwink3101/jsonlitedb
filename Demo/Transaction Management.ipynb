{
 "cells": [
  {
   "cell_type": "markdown",
   "id": "1d32f96c-0607-4169-bebc-aa305f0cac89",
   "metadata": {},
   "source": [
    "# Transaction Management\n",
    "\n",
    "Generally, SQLiteDB tries to manage transactions to be as efficient as possible. When methods allow for multiple actions (e.g. `insertmany(items)` or `insert(*items)`) it uses `sqlite3`'s optimized interface. But other actions can be improved using the context manager.\n",
    "\n",
    "## Aside: Logging SQL Statements\n",
    "\n",
    "SQL statements can be debug-logged with its own Python logger. This is turned off by default as it is beyond even DEBUG level information but can be turned on with the `JSONLiteDB_SQL_DEBUG` environment variable."
   ]
  },
  {
   "cell_type": "code",
   "execution_count": 1,
   "id": "22903253-b972-408a-9992-087fcd1d0665",
   "metadata": {},
   "outputs": [],
   "source": [
    "import logging"
   ]
  },
  {
   "cell_type": "code",
   "execution_count": 2,
   "id": "4389e7fd-d937-4bd2-8175-0c42048ab192",
   "metadata": {},
   "outputs": [],
   "source": [
    "import os, sys\n",
    "\n",
    "p = os.path.abspath(\"../\")\n",
    "if p not in sys.path:\n",
    "    sys.path.append(p)\n",
    "\n",
    "import jsonlitedb\n",
    "from jsonlitedb import JSONLiteDB, Q"
   ]
  },
  {
   "cell_type": "code",
   "execution_count": 3,
   "id": "03aba9c6-72e2-4f25-abea-79f095fb25dc",
   "metadata": {},
   "outputs": [],
   "source": [
    "os.environ[\"JSONLiteDB_SQL_DEBUG\"] = \"true\"\n",
    "logging.basicConfig(level=logging.DEBUG)"
   ]
  },
  {
   "cell_type": "code",
   "execution_count": 4,
   "id": "54e446ad-eb52-4de1-9c29-f1caf06b13d3",
   "metadata": {},
   "outputs": [
    {
     "name": "stderr",
     "output_type": "stream",
     "text": [
      "DEBUG:jsonlitedb:self.table = 'items'\n",
      "DEBUG:jsonlitedb:DB does not exists\n",
      "DEBUG:jsonlitedb-sql:\n",
      "CREATE TABLE IF NOT EXISTS items(\n",
      "    rowid INTEGER PRIMARY KEY AUTOINCREMENT,\n",
      "    data JSON\n",
      ")\n",
      "DEBUG:jsonlitedb-sql:\n",
      "CREATE TABLE IF NOT EXISTS items_kv(\n",
      "    key TEXT PRIMARY KEY,\n",
      "    val BLOB\n",
      ")\n",
      "DEBUG:jsonlitedb-sql:BEGIN \n",
      "DEBUG:jsonlitedb-sql:\n",
      "INSERT OR IGNORE INTO items_kv VALUES ('created','2024-12-27T15:36:26.177603-07:00')\n",
      "\n",
      "DEBUG:jsonlitedb-sql:\n",
      "INSERT OR IGNORE INTO items_kv VALUES ('version','0.1.0')\n",
      "\n",
      "DEBUG:jsonlitedb-sql:COMMIT\n"
     ]
    }
   ],
   "source": [
    "db = JSONLiteDB(\":memory:\")"
   ]
  },
  {
   "cell_type": "markdown",
   "id": "4dab98e6-7b8b-4e88-b8ec-a254c3370aec",
   "metadata": {},
   "source": [
    "## Inserts\n",
    "\n",
    "Insert items. There will be duplicates but that is fine for this example. Notice in the output when they are commited"
   ]
  },
  {
   "cell_type": "code",
   "execution_count": 5,
   "id": "ddf1182d-673e-48f2-a779-577934820b4b",
   "metadata": {},
   "outputs": [],
   "source": [
    "items = [\n",
    "    {\"first\": \"John\", \"last\": \"Lennon\", \"born\": 1940, \"role\": \"guitar\"},\n",
    "    {\"first\": \"Paul\", \"last\": \"McCartney\", \"born\": 1942, \"role\": \"bass\"},\n",
    "    {\"first\": \"George\", \"last\": \"Harrison\", \"born\": 1943, \"role\": \"guitar\"},\n",
    "    {\"first\": \"Ringo\", \"last\": \"Starr\", \"born\": 1940, \"role\": \"drums\"},\n",
    "    {\"first\": \"George\", \"last\": \"Martin\", \"born\": 1926, \"role\": \"producer\"},\n",
    "]"
   ]
  },
  {
   "cell_type": "markdown",
   "id": "23d1a22b-2289-47e2-9818-9b135718c889",
   "metadata": {},
   "source": [
    "### Optimized"
   ]
  },
  {
   "cell_type": "code",
   "execution_count": 6,
   "id": "71447b97-b832-40bb-b244-1ae99e24f5f9",
   "metadata": {},
   "outputs": [
    {
     "name": "stderr",
     "output_type": "stream",
     "text": [
      "DEBUG:jsonlitedb-sql:BEGIN \n",
      "DEBUG:jsonlitedb-sql:\n",
      "INSERT  INTO items (data)\n",
      "VALUES (JSON('{\"first\": \"John\", \"last\": \"Lennon\", \"born\": 1940, \"role\": \"guitar\"}'))\n",
      "\n",
      "DEBUG:jsonlitedb-sql:\n",
      "INSERT  INTO items (data)\n",
      "VALUES (JSON('{\"first\": \"Paul\", \"last\": \"McCartney\", \"born\": 1942, \"role\": \"bass\"}'))\n",
      "\n",
      "DEBUG:jsonlitedb-sql:\n",
      "INSERT  INTO items (data)\n",
      "VALUES (JSON('{\"first\": \"George\", \"last\": \"Harrison\", \"born\": 1943, \"role\": \"guitar\"}'))\n",
      "\n",
      "DEBUG:jsonlitedb-sql:\n",
      "INSERT  INTO items (data)\n",
      "VALUES (JSON('{\"first\": \"Ringo\", \"last\": \"Starr\", \"born\": 1940, \"role\": \"drums\"}'))\n",
      "\n",
      "DEBUG:jsonlitedb-sql:\n",
      "INSERT  INTO items (data)\n",
      "VALUES (JSON('{\"first\": \"George\", \"last\": \"Martin\", \"born\": 1926, \"role\": \"producer\"}'))\n",
      "\n",
      "DEBUG:jsonlitedb-sql:COMMIT\n"
     ]
    }
   ],
   "source": [
    "db.insert(*items)"
   ]
  },
  {
   "cell_type": "code",
   "execution_count": 7,
   "id": "863f8621-53d0-4b4e-b0f4-85eda5014410",
   "metadata": {},
   "outputs": [
    {
     "name": "stderr",
     "output_type": "stream",
     "text": [
      "DEBUG:jsonlitedb-sql:BEGIN \n",
      "DEBUG:jsonlitedb-sql:\n",
      "INSERT  INTO items (data)\n",
      "VALUES (JSON('{\"first\": \"John\", \"last\": \"Lennon\", \"born\": 1940, \"role\": \"guitar\"}'))\n",
      "\n",
      "DEBUG:jsonlitedb-sql:\n",
      "INSERT  INTO items (data)\n",
      "VALUES (JSON('{\"first\": \"Paul\", \"last\": \"McCartney\", \"born\": 1942, \"role\": \"bass\"}'))\n",
      "\n",
      "DEBUG:jsonlitedb-sql:\n",
      "INSERT  INTO items (data)\n",
      "VALUES (JSON('{\"first\": \"George\", \"last\": \"Harrison\", \"born\": 1943, \"role\": \"guitar\"}'))\n",
      "\n",
      "DEBUG:jsonlitedb-sql:\n",
      "INSERT  INTO items (data)\n",
      "VALUES (JSON('{\"first\": \"Ringo\", \"last\": \"Starr\", \"born\": 1940, \"role\": \"drums\"}'))\n",
      "\n",
      "DEBUG:jsonlitedb-sql:\n",
      "INSERT  INTO items (data)\n",
      "VALUES (JSON('{\"first\": \"George\", \"last\": \"Martin\", \"born\": 1926, \"role\": \"producer\"}'))\n",
      "\n",
      "DEBUG:jsonlitedb-sql:COMMIT\n"
     ]
    }
   ],
   "source": [
    "db.insertmany(items)"
   ]
  },
  {
   "cell_type": "code",
   "execution_count": 8,
   "id": "88e88538-8a11-4b92-8a08-a3541938a1c7",
   "metadata": {},
   "outputs": [
    {
     "name": "stderr",
     "output_type": "stream",
     "text": [
      "DEBUG:jsonlitedb-sql:BEGIN \n",
      "DEBUG:jsonlitedb-sql:\n",
      "INSERT  INTO items (data)\n",
      "VALUES (JSON('{\"first\": \"John\", \"last\": \"Lennon\", \"born\": 1940, \"role\": \"guitar\"}'))\n",
      "\n",
      "DEBUG:jsonlitedb-sql:\n",
      "INSERT  INTO items (data)\n",
      "VALUES (JSON('{\"first\": \"Paul\", \"last\": \"McCartney\", \"born\": 1942, \"role\": \"bass\"}'))\n",
      "\n",
      "DEBUG:jsonlitedb-sql:\n",
      "INSERT  INTO items (data)\n",
      "VALUES (JSON('{\"first\": \"George\", \"last\": \"Harrison\", \"born\": 1943, \"role\": \"guitar\"}'))\n",
      "\n",
      "DEBUG:jsonlitedb-sql:\n",
      "INSERT  INTO items (data)\n",
      "VALUES (JSON('{\"first\": \"Ringo\", \"last\": \"Starr\", \"born\": 1940, \"role\": \"drums\"}'))\n",
      "\n",
      "DEBUG:jsonlitedb-sql:\n",
      "INSERT  INTO items (data)\n",
      "VALUES (JSON('{\"first\": \"George\", \"last\": \"Martin\", \"born\": 1926, \"role\": \"producer\"}'))\n",
      "\n",
      "DEBUG:jsonlitedb-sql:COMMIT\n"
     ]
    }
   ],
   "source": [
    "with db:\n",
    "    for item in items:\n",
    "        db.insert(item)"
   ]
  },
  {
   "cell_type": "markdown",
   "id": "7b71dda5-b5ef-440e-b56e-1ba962470e88",
   "metadata": {},
   "source": [
    "### NOT optimized\n",
    "\n",
    "Notice it commits after each"
   ]
  },
  {
   "cell_type": "code",
   "execution_count": 9,
   "id": "94ce5865-96ef-427e-9826-6b4171e6b35e",
   "metadata": {},
   "outputs": [
    {
     "name": "stderr",
     "output_type": "stream",
     "text": [
      "DEBUG:jsonlitedb-sql:BEGIN \n",
      "DEBUG:jsonlitedb-sql:\n",
      "INSERT  INTO items (data)\n",
      "VALUES (JSON('{\"first\": \"John\", \"last\": \"Lennon\", \"born\": 1940, \"role\": \"guitar\"}'))\n",
      "\n",
      "DEBUG:jsonlitedb-sql:COMMIT\n",
      "DEBUG:jsonlitedb-sql:BEGIN \n",
      "DEBUG:jsonlitedb-sql:\n",
      "INSERT  INTO items (data)\n",
      "VALUES (JSON('{\"first\": \"Paul\", \"last\": \"McCartney\", \"born\": 1942, \"role\": \"bass\"}'))\n",
      "\n",
      "DEBUG:jsonlitedb-sql:COMMIT\n",
      "DEBUG:jsonlitedb-sql:BEGIN \n",
      "DEBUG:jsonlitedb-sql:\n",
      "INSERT  INTO items (data)\n",
      "VALUES (JSON('{\"first\": \"George\", \"last\": \"Harrison\", \"born\": 1943, \"role\": \"guitar\"}'))\n",
      "\n",
      "DEBUG:jsonlitedb-sql:COMMIT\n",
      "DEBUG:jsonlitedb-sql:BEGIN \n",
      "DEBUG:jsonlitedb-sql:\n",
      "INSERT  INTO items (data)\n",
      "VALUES (JSON('{\"first\": \"Ringo\", \"last\": \"Starr\", \"born\": 1940, \"role\": \"drums\"}'))\n",
      "\n",
      "DEBUG:jsonlitedb-sql:COMMIT\n",
      "DEBUG:jsonlitedb-sql:BEGIN \n",
      "DEBUG:jsonlitedb-sql:\n",
      "INSERT  INTO items (data)\n",
      "VALUES (JSON('{\"first\": \"George\", \"last\": \"Martin\", \"born\": 1926, \"role\": \"producer\"}'))\n",
      "\n",
      "DEBUG:jsonlitedb-sql:COMMIT\n"
     ]
    }
   ],
   "source": [
    "for item in items:\n",
    "    db.insert(item)"
   ]
  },
  {
   "cell_type": "markdown",
   "id": "002fd351-03e3-4f4f-b220-0e7df385caa0",
   "metadata": {},
   "source": [
    "## Removals\n",
    "\n",
    "### Optimized"
   ]
  },
  {
   "cell_type": "code",
   "execution_count": 10,
   "id": "b69e3b73-afb5-4724-9932-4cac46668d42",
   "metadata": {},
   "outputs": [
    {
     "name": "stderr",
     "output_type": "stream",
     "text": [
      "DEBUG:jsonlitedb-sql:\n",
      "SELECT rowid, data FROM items \n",
      "WHERE\n",
      "    ( JSON_EXTRACT(data, '$.\"last\"') = 'Martin' )\n",
      "\n",
      "\n",
      "DEBUG:jsonlitedb-sql:BEGIN \n",
      "DEBUG:jsonlitedb-sql:\n",
      "DELETE FROM items \n",
      "WHERE\n",
      "    rowid = 5\n",
      "\n",
      "DEBUG:jsonlitedb-sql:\n",
      "DELETE FROM items \n",
      "WHERE\n",
      "    rowid = 10\n",
      "\n",
      "DEBUG:jsonlitedb-sql:\n",
      "DELETE FROM items \n",
      "WHERE\n",
      "    rowid = 15\n",
      "\n",
      "DEBUG:jsonlitedb-sql:\n",
      "DELETE FROM items \n",
      "WHERE\n",
      "    rowid = 20\n",
      "\n",
      "DEBUG:jsonlitedb-sql:COMMIT\n"
     ]
    }
   ],
   "source": [
    "row_ids = [row.rowid for row in db.query(db.Q.last == \"Martin\")]\n",
    "db.delete_by_rowid(*row_ids)"
   ]
  },
  {
   "cell_type": "code",
   "execution_count": 11,
   "id": "fd9b700f-6faa-4a83-b1bb-bd85573ab750",
   "metadata": {},
   "outputs": [
    {
     "name": "stderr",
     "output_type": "stream",
     "text": [
      "DEBUG:jsonlitedb-sql:\n",
      "SELECT rowid, data FROM items \n",
      "WHERE\n",
      "    ( JSON_EXTRACT(data, '$.\"last\"') = 'Starr' )\n",
      "\n",
      "\n",
      "DEBUG:jsonlitedb-sql:BEGIN \n",
      "DEBUG:jsonlitedb-sql:\n",
      "DELETE FROM items \n",
      "WHERE\n",
      "    rowid = 4\n",
      "\n",
      "DEBUG:jsonlitedb-sql:\n",
      "DELETE FROM items \n",
      "WHERE\n",
      "    rowid = 9\n",
      "\n",
      "DEBUG:jsonlitedb-sql:\n",
      "DELETE FROM items \n",
      "WHERE\n",
      "    rowid = 14\n",
      "\n",
      "DEBUG:jsonlitedb-sql:\n",
      "DELETE FROM items \n",
      "WHERE\n",
      "    rowid = 19\n",
      "\n",
      "DEBUG:jsonlitedb-sql:COMMIT\n"
     ]
    }
   ],
   "source": [
    "row_ids = [row.rowid for row in db.query(db.Q.last == \"Starr\")]\n",
    "with db:\n",
    "    for row_id in row_ids:\n",
    "        db.delete_by_rowid(row_id)"
   ]
  },
  {
   "cell_type": "markdown",
   "id": "0ca24cfd-d92a-4471-a645-d8573a596310",
   "metadata": {},
   "source": [
    "Of course, you can bulk delete by the query which will delete all matching items and not even be in the loop"
   ]
  },
  {
   "cell_type": "code",
   "execution_count": 12,
   "id": "7771cb2c-6e2d-4e62-9151-8de1465b1bd3",
   "metadata": {},
   "outputs": [
    {
     "name": "stderr",
     "output_type": "stream",
     "text": [
      "DEBUG:jsonlitedb-sql:BEGIN \n",
      "DEBUG:jsonlitedb-sql:\n",
      "DELETE FROM items \n",
      "WHERE\n",
      "    ( JSON_EXTRACT(data, '$.\"last\"') = 'Harrison' )\n",
      "\n",
      "DEBUG:jsonlitedb-sql:COMMIT\n"
     ]
    }
   ],
   "source": [
    "db.delete(db.Q.last == \"Harrison\")"
   ]
  },
  {
   "cell_type": "markdown",
   "id": "1e00b2be-9d00-4b35-a00e-4fc930d84c3c",
   "metadata": {},
   "source": [
    "### Not optimized"
   ]
  },
  {
   "cell_type": "code",
   "execution_count": 13,
   "id": "4e119deb-2373-4ed8-a9fe-7aeedf5c76c4",
   "metadata": {},
   "outputs": [
    {
     "name": "stderr",
     "output_type": "stream",
     "text": [
      "DEBUG:jsonlitedb-sql:\n",
      "SELECT rowid, data FROM items \n",
      "WHERE\n",
      "    ( JSON_EXTRACT(data, '$.\"last\"') = 'McCartney' )\n",
      "\n",
      "\n",
      "DEBUG:jsonlitedb-sql:BEGIN \n",
      "DEBUG:jsonlitedb-sql:\n",
      "DELETE FROM items \n",
      "WHERE\n",
      "    rowid = 2\n",
      "\n",
      "DEBUG:jsonlitedb-sql:COMMIT\n",
      "DEBUG:jsonlitedb-sql:BEGIN \n",
      "DEBUG:jsonlitedb-sql:\n",
      "DELETE FROM items \n",
      "WHERE\n",
      "    rowid = 7\n",
      "\n",
      "DEBUG:jsonlitedb-sql:COMMIT\n",
      "DEBUG:jsonlitedb-sql:BEGIN \n",
      "DEBUG:jsonlitedb-sql:\n",
      "DELETE FROM items \n",
      "WHERE\n",
      "    rowid = 12\n",
      "\n",
      "DEBUG:jsonlitedb-sql:COMMIT\n",
      "DEBUG:jsonlitedb-sql:BEGIN \n",
      "DEBUG:jsonlitedb-sql:\n",
      "DELETE FROM items \n",
      "WHERE\n",
      "    rowid = 17\n",
      "\n",
      "DEBUG:jsonlitedb-sql:COMMIT\n"
     ]
    }
   ],
   "source": [
    "row_ids = [row.rowid for row in db.query(db.Q.last == \"McCartney\")]\n",
    "for row_id in row_ids:\n",
    "    db.delete_by_rowid(row_id)"
   ]
  },
  {
   "cell_type": "code",
   "execution_count": 14,
   "id": "1bb0166e-3f41-418a-b50b-5560b5260cd9",
   "metadata": {},
   "outputs": [
    {
     "name": "stderr",
     "output_type": "stream",
     "text": [
      "DEBUG:jsonlitedb-sql:SELECT rowid, data FROM items\n",
      "DEBUG:jsonlitedb-sql:SELECT COUNT(rowid) FROM items\n"
     ]
    },
    {
     "data": {
      "text/plain": [
       "[{'first': 'John', 'last': 'Lennon', 'born': 1940, 'role': 'guitar'},\n",
       " {'first': 'John', 'last': 'Lennon', 'born': 1940, 'role': 'guitar'},\n",
       " {'first': 'John', 'last': 'Lennon', 'born': 1940, 'role': 'guitar'},\n",
       " {'first': 'John', 'last': 'Lennon', 'born': 1940, 'role': 'guitar'}]"
      ]
     },
     "execution_count": 14,
     "metadata": {},
     "output_type": "execute_result"
    }
   ],
   "source": [
    "list(db)"
   ]
  },
  {
   "cell_type": "code",
   "execution_count": null,
   "id": "7c1658fb-544a-4bfd-b35a-13e05dd6a4c7",
   "metadata": {},
   "outputs": [],
   "source": []
  }
 ],
 "metadata": {
  "kernelspec": {
   "display_name": "Python 3 (ipykernel)",
   "language": "python",
   "name": "python3"
  },
  "language_info": {
   "codemirror_mode": {
    "name": "ipython",
    "version": 3
   },
   "file_extension": ".py",
   "mimetype": "text/x-python",
   "name": "python",
   "nbconvert_exporter": "python",
   "pygments_lexer": "ipython3",
   "version": "3.11.5"
  }
 },
 "nbformat": 4,
 "nbformat_minor": 5
}
