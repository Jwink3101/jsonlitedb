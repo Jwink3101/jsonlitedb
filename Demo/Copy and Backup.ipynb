{
 "cells": [
  {
   "cell_type": "markdown",
   "id": "8bc7c84c-0047-4bf0-a4ad-71161a3b7586",
   "metadata": {},
   "source": [
    "# Database Copy and Backup\n",
    "\n",
    "A quick example of using [sqlite3 backup][back] methods to copy and backup databases.\n",
    "\n",
    "These work because you can specify an `sqlite3.Connection` object to instantiate JSONLiteDB\n",
    "\n",
    "[back]:https://docs.python.org/3/library/sqlite3.html#sqlite3.Connection.backup"
   ]
  },
  {
   "cell_type": "code",
   "execution_count": 1,
   "id": "4ee1001c-5ec5-4696-82dd-5adc5f0b14bc",
   "metadata": {},
   "outputs": [],
   "source": [
    "import os, sys\n",
    "\n",
    "# This is just to make sure running the devel version.\n",
    "# NOT NEEDED once JSONLiteDB is installed\n",
    "p = os.path.abspath(\"../\")\n",
    "if p not in sys.path:\n",
    "    sys.path.insert(0, p)\n",
    "\n",
    "import jsonlitedb\n",
    "from jsonlitedb import JSONLiteDB, Q"
   ]
  },
  {
   "cell_type": "code",
   "execution_count": 2,
   "id": "d7543a46-7c6e-4599-a2a0-692fbb8eda12",
   "metadata": {},
   "outputs": [],
   "source": [
    "import sqlite3\n",
    "import subprocess"
   ]
  },
  {
   "cell_type": "code",
   "execution_count": 3,
   "id": "b54e6584-ddd2-4a2d-8efe-9282cf07a4aa",
   "metadata": {},
   "outputs": [
    {
     "name": "stdout",
     "output_type": "stream",
     "text": [
      "JSONLiteDB(':memory:')\n"
     ]
    }
   ],
   "source": [
    "db0 = JSONLiteDB(\":memory:\")\n",
    "print(db0)"
   ]
  },
  {
   "cell_type": "code",
   "execution_count": 4,
   "id": "7dcee724-e353-4004-8ee7-e26fde2b93fa",
   "metadata": {},
   "outputs": [],
   "source": [
    "db0.insert(\n",
    "    {\"first\": \"John\", \"last\": \"Lennon\", \"born\": 1940, \"role\": \"guitar\"},\n",
    "    {\"first\": \"Paul\", \"last\": \"McCartney\", \"born\": 1942, \"role\": \"bass\"},\n",
    "    {\"first\": \"George\", \"last\": \"Harrison\", \"born\": 1943, \"role\": \"guitar\"},\n",
    "    {\"first\": \"Ringo\", \"last\": \"Starr\", \"born\": 1940, \"role\": \"drums\"},\n",
    "    {\"first\": \"George\", \"last\": \"Martin\", \"born\": 1926, \"role\": \"producer\"},\n",
    ")"
   ]
  },
  {
   "cell_type": "markdown",
   "id": "0ed7fa64-a520-4233-b0c6-17b9a9bef26e",
   "metadata": {},
   "source": [
    "Copy it by createing a new database connection"
   ]
  },
  {
   "cell_type": "code",
   "execution_count": 5,
   "id": "9af69632-8e45-4efc-a987-815ca1066163",
   "metadata": {},
   "outputs": [
    {
     "name": "stdout",
     "output_type": "stream",
     "text": [
      "JSONLiteDB('*existing connection*')\n"
     ]
    }
   ],
   "source": [
    "# TMP sqlite3 connection\n",
    "_db1 = sqlite3.connect(\":memory:\")\n",
    "\n",
    "# Use the underlying sqlite3.Connection object of db0 to backup\n",
    "db0.db.backup(_db1)\n",
    "\n",
    "# create a new database\n",
    "db1 = JSONLiteDB(_db1)\n",
    "print(db1)"
   ]
  },
  {
   "cell_type": "code",
   "execution_count": 6,
   "id": "eff92912-c6fd-493d-9754-ab90404393ea",
   "metadata": {},
   "outputs": [
    {
     "data": {
      "text/plain": [
       "[{'first': 'John', 'last': 'Lennon', 'born': 1940, 'role': 'guitar'},\n",
       " {'first': 'Paul', 'last': 'McCartney', 'born': 1942, 'role': 'bass'},\n",
       " {'first': 'George', 'last': 'Harrison', 'born': 1943, 'role': 'guitar'},\n",
       " {'first': 'Ringo', 'last': 'Starr', 'born': 1940, 'role': 'drums'},\n",
       " {'first': 'George', 'last': 'Martin', 'born': 1926, 'role': 'producer'}]"
      ]
     },
     "execution_count": 6,
     "metadata": {},
     "output_type": "execute_result"
    }
   ],
   "source": [
    "list(db1)"
   ]
  },
  {
   "cell_type": "markdown",
   "id": "5d71eb49-7e74-4e9b-aa38-ee4f06af4c73",
   "metadata": {},
   "source": [
    "Demonstrate that they are not the same underlying database"
   ]
  },
  {
   "cell_type": "code",
   "execution_count": 7,
   "id": "d3edf705-b932-4ec4-9fb5-65a42e713c42",
   "metadata": {},
   "outputs": [
    {
     "name": "stdout",
     "output_type": "stream",
     "text": [
      "db0.count(last='Martin') = 1\n",
      "db1.count(last='Martin') = 0\n"
     ]
    }
   ],
   "source": [
    "db1.delete(last=\"Martin\")\n",
    "print(f\"{db0.count(last='Martin') = }\")\n",
    "print(f\"{db1.count(last='Martin') = }\")"
   ]
  },
  {
   "cell_type": "markdown",
   "id": "d532098f-d3fa-4aec-a14f-37a2a8b6655d",
   "metadata": {},
   "source": [
    "The same approach can be used to save an in-memory database too"
   ]
  },
  {
   "cell_type": "code",
   "execution_count": 8,
   "id": "4e8ad14b-c6eb-4be9-998f-7c70bdc9554b",
   "metadata": {},
   "outputs": [
    {
     "name": "stdout",
     "output_type": "stream",
     "text": [
      "os.path.exists('mydb.db') = True\n",
      "len(db2) = 5\n",
      "PRAGMA foreign_keys=OFF;\n",
      "BEGIN TRANSACTION;\n",
      "CREATE TABLE items(\n",
      "    rowid INTEGER PRIMARY KEY AUTOINCREMENT,\n",
      "    data TEXT\n",
      ");\n",
      "INSERT INTO items VALUES(1,'{\"first\":\"John\",\"last\":\"Lennon\",\"born\":1940,\"role\":\"guitar\"}');\n",
      "INSERT INTO items VALUES(2,'{\"first\":\"Paul\",\"last\":\"McCartney\",\"born\":1942,\"role\":\"bass\"}');\n",
      "INSERT INTO items VALUES(3,'{\"first\":\"George\",\"last\":\"Harrison\",\"born\":1943,\"role\":\"guitar\"}');\n",
      "INSERT INTO items VALUES(4,'{\"first\":\"Ringo\",\"last\":\"Starr\",\"born\":1940,\"role\":\"drums\"}');\n",
      "INSERT INTO items VALUES(5,'{\"first\":\"George\",\"last\":\"Martin\",\"born\":1926,\"role\":\"producer\"}');\n",
      "CREATE TABLE items_kv(\n",
      "    key TEXT PRIMARY KEY,\n",
      "    val TEXT\n",
      ");\n",
      "INSERT INTO items_kv VALUES('created','2025-01-18T06:37:48.262987-07:00');\n",
      "INSERT INTO items_kv VALUES('version','JSONLiteDB-0.1.5');\n",
      "DELETE FROM sqlite_sequence;\n",
      "INSERT INTO sqlite_sequence VALUES('items',5);\n",
      "COMMIT;\n",
      "\n"
     ]
    }
   ],
   "source": [
    "try:  # Just to make sure it gets cleared\n",
    "    dbfile = sqlite3.connect(\"mydb.db\")\n",
    "    db0.db.backup(dbfile)\n",
    "    dbfile.close()\n",
    "\n",
    "    print(f\"{os.path.exists('mydb.db') = }\")\n",
    "\n",
    "    db2 = JSONLiteDB(\"mydb.db\")\n",
    "    print(f\"{len(db2) = }\")\n",
    "\n",
    "    print(subprocess.check_output([\"sqlite3\", \"mydb.db\", \".dump\"]).decode())\n",
    "finally:\n",
    "    pass  # os.unlink('mydb.db') # This will also fail if mydb.db didn't exist"
   ]
  },
  {
   "cell_type": "code",
   "execution_count": null,
   "id": "64c0e2bb-6010-4d01-aed8-f2bf6f68a23e",
   "metadata": {},
   "outputs": [],
   "source": []
  },
  {
   "cell_type": "code",
   "execution_count": null,
   "id": "07ae8ca5-3279-46b3-a7b9-2962d82452c6",
   "metadata": {},
   "outputs": [],
   "source": []
  },
  {
   "cell_type": "code",
   "execution_count": null,
   "id": "537e4c7b-56f0-4566-8dad-4e511db9cb8d",
   "metadata": {},
   "outputs": [],
   "source": []
  }
 ],
 "metadata": {
  "kernelspec": {
   "display_name": "Python 3 (ipykernel)",
   "language": "python",
   "name": "python3"
  },
  "language_info": {
   "codemirror_mode": {
    "name": "ipython",
    "version": 3
   },
   "file_extension": ".py",
   "mimetype": "text/x-python",
   "name": "python",
   "nbconvert_exporter": "python",
   "pygments_lexer": "ipython3"
  }
 },
 "nbformat": 4,
 "nbformat_minor": 5
}
