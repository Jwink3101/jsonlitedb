{
 "cells": [
  {
   "cell_type": "markdown",
   "id": "2e391ca8-3862-420a-b7bb-639a92ef7459",
   "metadata": {},
   "source": [
    "## Basic Usage\n",
    "\n",
    "With some fake data."
   ]
  },
  {
   "cell_type": "code",
   "execution_count": 1,
   "id": "0dd37cf2-048d-4101-9396-020cc37e56ec",
   "metadata": {},
   "outputs": [],
   "source": [
    "from jsonlitedb import JSONLiteDB"
   ]
  },
  {
   "cell_type": "code",
   "execution_count": 2,
   "id": "ba238b92-542c-4cea-9273-a1160983b037",
   "metadata": {},
   "outputs": [],
   "source": [
    "db = JSONLiteDB(\":memory:\")\n",
    "# more generally:\n",
    "# db = JSONLiteDB('my_data.db')"
   ]
  },
  {
   "cell_type": "markdown",
   "id": "1ba3ff39-dd7e-4acc-9e80-e2603c05a526",
   "metadata": {},
   "source": [
    "Insert some data. Can use `insert()` with any number of items or `insertmany()` with an iterable (`insertmany([...]) <--> insert(*[...])`).\n",
    "\n",
    "Can also use a context manager (`with db: ...`)to batch the insertions (or deletions)."
   ]
  },
  {
   "cell_type": "code",
   "execution_count": 3,
   "id": "847700bb-82b5-454a-b600-0dfa47bf99bc",
   "metadata": {},
   "outputs": [],
   "source": [
    "db.insert(\n",
    "    {\"first\": \"John\", \"last\": \"Lennon\", \"born\": 1940, \"role\": \"guitar\"},\n",
    "    {\"first\": \"Paul\", \"last\": \"McCartney\", \"born\": 1942, \"role\": \"bass\"},\n",
    "    {\"first\": \"George\", \"last\": \"Harrison\", \"born\": 1943, \"role\": \"guitar\"},\n",
    "    {\"first\": \"Ringo\", \"last\": \"Starr\", \"born\": 1940, \"role\": \"drums\"},\n",
    "    {\"first\": \"George\", \"last\": \"Martin\", \"born\": 1926, \"role\": \"producer\"},\n",
    ")"
   ]
  },
  {
   "cell_type": "code",
   "execution_count": 4,
   "id": "d842044a-c8f3-46ee-b6fe-83460525042f",
   "metadata": {},
   "outputs": [
    {
     "data": {
      "text/plain": [
       "5"
      ]
     },
     "execution_count": 4,
     "metadata": {},
     "output_type": "execute_result"
    }
   ],
   "source": [
    "len(db)"
   ]
  },
  {
   "cell_type": "code",
   "execution_count": 5,
   "id": "5de72b07-d99d-4308-a69b-ee0278696f03",
   "metadata": {},
   "outputs": [
    {
     "data": {
      "text/plain": [
       "[{'first': 'John', 'last': 'Lennon', 'born': 1940, 'role': 'guitar'},\n",
       " {'first': 'Paul', 'last': 'McCartney', 'born': 1942, 'role': 'bass'},\n",
       " {'first': 'George', 'last': 'Harrison', 'born': 1943, 'role': 'guitar'},\n",
       " {'first': 'Ringo', 'last': 'Starr', 'born': 1940, 'role': 'drums'},\n",
       " {'first': 'George', 'last': 'Martin', 'born': 1926, 'role': 'producer'}]"
      ]
     },
     "execution_count": 5,
     "metadata": {},
     "output_type": "execute_result"
    }
   ],
   "source": [
    "list(db)"
   ]
  },
  {
   "cell_type": "markdown",
   "id": "5cffa1c0-dcac-4f81-a246-6bea8978d157",
   "metadata": {},
   "source": [
    "### Simple Queries"
   ]
  },
  {
   "cell_type": "markdown",
   "id": "b3bfb322-495f-4456-9b05-7dc4bb5af476",
   "metadata": {},
   "source": [
    "Let's do some simple queries. The default `query()` returns an iterator so we wrap them in a list."
   ]
  },
  {
   "cell_type": "code",
   "execution_count": 6,
   "id": "d550eab8-d456-454e-9e1f-38e24dd701d9",
   "metadata": {},
   "outputs": [
    {
     "data": {
      "text/plain": [
       "[{'first': 'George', 'last': 'Harrison', 'born': 1943, 'role': 'guitar'},\n",
       " {'first': 'George', 'last': 'Martin', 'born': 1926, 'role': 'producer'}]"
      ]
     },
     "execution_count": 6,
     "metadata": {},
     "output_type": "execute_result"
    }
   ],
   "source": [
    "list(db.query(first=\"George\"))"
   ]
  },
  {
   "cell_type": "code",
   "execution_count": 7,
   "id": "03bf4d0e-110f-4ef4-a906-f9595861653e",
   "metadata": {},
   "outputs": [
    {
     "data": {
      "text/plain": [
       "[{'first': 'George', 'last': 'Martin', 'born': 1926, 'role': 'producer'}]"
      ]
     },
     "execution_count": 7,
     "metadata": {},
     "output_type": "execute_result"
    }
   ],
   "source": [
    "list(db.query(first=\"George\", last=\"Martin\"))"
   ]
  },
  {
   "cell_type": "markdown",
   "id": "f408ec94-cbbf-4099-b1ba-b3457c5f3eae",
   "metadata": {},
   "source": [
    "Now let's query with a dictionary to match"
   ]
  },
  {
   "cell_type": "code",
   "execution_count": 8,
   "id": "2ae12f7a-aad8-4df9-b635-af33a02fedd7",
   "metadata": {},
   "outputs": [
    {
     "data": {
      "text/plain": [
       "[{'first': 'George', 'last': 'Harrison', 'born': 1943, 'role': 'guitar'},\n",
       " {'first': 'George', 'last': 'Martin', 'born': 1926, 'role': 'producer'}]"
      ]
     },
     "execution_count": 8,
     "metadata": {},
     "output_type": "execute_result"
    }
   ],
   "source": [
    "list(db.query({\"first\": \"George\"}))"
   ]
  },
  {
   "cell_type": "markdown",
   "id": "9c664f2f-d4b2-42cf-b236-62971f232e12",
   "metadata": {},
   "source": [
    "Multiples are always an AND query"
   ]
  },
  {
   "cell_type": "code",
   "execution_count": 9,
   "id": "fd86cc54-7c03-4cdd-8b5b-8113edf7c2d3",
   "metadata": {},
   "outputs": [
    {
     "data": {
      "text/plain": [
       "[{'first': 'George', 'last': 'Martin', 'born': 1926, 'role': 'producer'}]"
      ]
     },
     "execution_count": 9,
     "metadata": {},
     "output_type": "execute_result"
    }
   ],
   "source": [
    "list(db.query({\"first\": \"George\", \"last\": \"Martin\"}))"
   ]
  },
  {
   "cell_type": "markdown",
   "id": "71325e65-b2ad-4624-97be-e0cf3b92ab72",
   "metadata": {},
   "source": [
    "Can do seperate items but it makes no difference."
   ]
  },
  {
   "cell_type": "code",
   "execution_count": 10,
   "id": "7a123f78-9ae2-423d-af6b-b503183dbc41",
   "metadata": {},
   "outputs": [
    {
     "data": {
      "text/plain": [
       "[{'first': 'George', 'last': 'Martin', 'born': 1926, 'role': 'producer'}]"
      ]
     },
     "execution_count": 10,
     "metadata": {},
     "output_type": "execute_result"
    }
   ],
   "source": [
    "list(db.query({\"first\": \"George\"}, {\"last\": \"Martin\"}))"
   ]
  },
  {
   "cell_type": "markdown",
   "id": "f1019028-a4ff-4f80-9531-ebf08055c25d",
   "metadata": {},
   "source": [
    "### Query Objects\n",
    "\n",
    "Query objects enable more complex combinations and inequalities. Query objects can be from the database (`db.Query` or `db.Q`) or created on thier own (`Query()` or `Q()`). They are all the same. "
   ]
  },
  {
   "cell_type": "code",
   "execution_count": 11,
   "id": "5cf1f201-84e5-4e35-bcb9-c1444c03f430",
   "metadata": {},
   "outputs": [
    {
     "data": {
      "text/plain": [
       "[{'first': 'George', 'last': 'Harrison', 'born': 1943, 'role': 'guitar'},\n",
       " {'first': 'George', 'last': 'Martin', 'born': 1926, 'role': 'producer'}]"
      ]
     },
     "execution_count": 11,
     "metadata": {},
     "output_type": "execute_result"
    }
   ],
   "source": [
    "list(db.query(db.Q.first == \"George\"))"
   ]
  },
  {
   "cell_type": "markdown",
   "id": "0bdc2beb-62d9-4bfe-853c-9f12c31c8a63",
   "metadata": {},
   "source": [
    "Note that you need to be careful with parentheses as the operator precedance for the `&` and `|` are very high"
   ]
  },
  {
   "cell_type": "code",
   "execution_count": 12,
   "id": "e1e2f2c7-fb2f-44a3-b359-9278ce355689",
   "metadata": {},
   "outputs": [
    {
     "data": {
      "text/plain": [
       "[{'first': 'George', 'last': 'Martin', 'born': 1926, 'role': 'producer'}]"
      ]
     },
     "execution_count": 12,
     "metadata": {},
     "output_type": "execute_result"
    }
   ],
   "source": [
    "list(db.query((db.Q.first == \"George\") & (db.Q.last == \"Martin\")))"
   ]
  },
  {
   "cell_type": "markdown",
   "id": "1693b8f5-6f65-4352-8d70-a9b531791024",
   "metadata": {},
   "source": [
    "Can do inequalities too"
   ]
  },
  {
   "cell_type": "code",
   "execution_count": 13,
   "id": "9ab886c6-95f6-4cb9-aa50-afba85d5efe8",
   "metadata": {},
   "outputs": [
    {
     "data": {
      "text/plain": [
       "[{'first': 'George', 'last': 'Martin', 'born': 1926, 'role': 'producer'}]"
      ]
     },
     "execution_count": 13,
     "metadata": {},
     "output_type": "execute_result"
    }
   ],
   "source": [
    "list(db.query(db.Q.born < 1930))"
   ]
  },
  {
   "cell_type": "markdown",
   "id": "55206e01-01d5-4275-a7a8-f07754688250",
   "metadata": {},
   "source": [
    "Queries support: `==`, `!=`, `<`, `<=`, `>`, `>=` for normal comparisons.\n",
    "\n",
    "In addition they support\n",
    "\n",
    "- `%` : `LIKE`\n",
    "- `*` : `GLOB`\n",
    "- `@` : `REGEXP` using Python's regex module\n"
   ]
  },
  {
   "cell_type": "code",
   "execution_count": 14,
   "id": "ab2194f9-b2b5-4aa9-a118-492c7c25a943",
   "metadata": {},
   "outputs": [
    {
     "data": {
      "text/plain": [
       "[{'first': 'George', 'last': 'Martin', 'born': 1926, 'role': 'producer'}]"
      ]
     },
     "execution_count": 14,
     "metadata": {},
     "output_type": "execute_result"
    }
   ],
   "source": [
    "# This will all be the same\n",
    "db.query(db.Q.role % \"prod%\").all()  # LIKE\n",
    "db.query(db.Q.role * \"prod*\").all()  # GLOB\n",
    "db.query(db.Q.role @ \"prod\").all()  # REGEXP -- Python based"
   ]
  },
  {
   "cell_type": "markdown",
   "id": "81f8bedd-974c-4073-aabc-363d74ef4678",
   "metadata": {},
   "source": [
    "### Speeding up queries\n",
    "\n",
    "Queries can be **greatly accelerated** with an index. Note that SQLite is *extremely* picky about how you write the index! For the most part, if you the same method to query as write the index, you will be fine. (This is more of an issue with nested queries and *advanced* formulating of the query).\n",
    "\n",
    "The name of the index is imaterial. It is based on the fields. It will look different"
   ]
  },
  {
   "cell_type": "code",
   "execution_count": 15,
   "id": "01e946c9-74ca-47ef-b415-0193e9ea842d",
   "metadata": {},
   "outputs": [
    {
     "data": {
      "text/plain": [
       "{'ix_items_1bd45eb5': ['$.\"last\"']}"
      ]
     },
     "execution_count": 15,
     "metadata": {},
     "output_type": "execute_result"
    }
   ],
   "source": [
    "db.create_index(\"last\")\n",
    "db.indexes"
   ]
  },
  {
   "cell_type": "code",
   "execution_count": 16,
   "id": "afef3446-1fb2-42cd-a2ff-92f6c78766e4",
   "metadata": {},
   "outputs": [
    {
     "data": {
      "text/plain": [
       "[{'first': 'George', 'last': 'Martin', 'born': 1926, 'role': 'producer'}]"
      ]
     },
     "execution_count": 16,
     "metadata": {},
     "output_type": "execute_result"
    }
   ],
   "source": [
    "# of course, with four items, this makes little difference\n",
    "list(db.query(last=\"Martin\"))"
   ]
  },
  {
   "cell_type": "markdown",
   "id": "c51f174b-74fb-401b-9a86-9d132ecb212d",
   "metadata": {},
   "source": [
    "And an index can also be used to enforce uniqueness amongst one or more fields"
   ]
  },
  {
   "cell_type": "code",
   "execution_count": 17,
   "id": "274f0b2c-0d19-4da5-993d-550d175b6592",
   "metadata": {},
   "outputs": [
    {
     "data": {
      "text/plain": [
       "{'ix_items_1bd45eb5': ['$.\"last\"'],\n",
       " 'ix_items_250e4243_UNIQUE': ['$.\"first\"', '$.\"last\"']}"
      ]
     },
     "execution_count": 17,
     "metadata": {},
     "output_type": "execute_result"
    }
   ],
   "source": [
    "db.create_index(\"first\", \"last\", unique=True)\n",
    "db.indexes"
   ]
  },
  {
   "cell_type": "code",
   "execution_count": 18,
   "id": "3fbc35f6-e0d1-444f-8dbd-78d2e1587c84",
   "metadata": {},
   "outputs": [],
   "source": [
    "# db.insert({'first': 'George', 'last': 'Martin', 'type':'FAKE ENTRY'})\n",
    "# Causes: IntegrityError: UNIQUE constraint failed: index 'ix_items_250e4243_UNIQUE'"
   ]
  },
  {
   "cell_type": "markdown",
   "id": "56bea67d-f9f7-4af9-9bfa-6d1eb9937d17",
   "metadata": {},
   "source": [
    "See *Advanced Usage* for more examples including nested queries"
   ]
  },
  {
   "cell_type": "code",
   "execution_count": null,
   "id": "6426c019-5f86-4f41-a62f-0b44f9a00c4f",
   "metadata": {},
   "outputs": [],
   "source": []
  }
 ],
 "metadata": {
  "kernelspec": {
   "display_name": "Python 3 (ipykernel)",
   "language": "python",
   "name": "python3"
  },
  "language_info": {
   "codemirror_mode": {
    "name": "ipython",
    "version": 3
   },
   "file_extension": ".py",
   "mimetype": "text/x-python",
   "name": "python",
   "nbconvert_exporter": "python",
   "pygments_lexer": "ipython3"
  }
 },
 "nbformat": 4,
 "nbformat_minor": 5
}
